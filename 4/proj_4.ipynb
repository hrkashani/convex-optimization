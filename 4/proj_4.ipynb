{
 "cells": [
  {
   "cell_type": "code",
   "execution_count": 12,
   "metadata": {},
   "outputs": [],
   "source": [
    "import numpy as np\n",
    "from scipy.sparse import random as sprand\n",
    "m=20\n",
    "n=10\n",
    "p=8\n",
    "np.random.seed(2)\n",
    "R = np.round(np.random.rand(m, n)).reshape(m,n)\n",
    "A = sprand(p, m, density=0.2).toarray().reshape(p,m)\n",
    "c = 10*np.random.rand(m) + 20\n",
    "c=c.reshape(m,1)\n",
    "b = 20*np.random.rand(p) + 30\n",
    "b=b.reshape(p,1)"
   ]
  },
  {
   "cell_type": "code",
   "execution_count": 36,
   "metadata": {},
   "outputs": [
    {
     "data": {
      "text/plain": [
       "(array([[0.74703555],\n",
       "        [5.21604275],\n",
       "        [4.36973436],\n",
       "        [2.12367854],\n",
       "        [1.2399596 ],\n",
       "        [0.87670839],\n",
       "        [5.91984462],\n",
       "        [6.94819333],\n",
       "        [0.86084168],\n",
       "        [4.48194993]]),\n",
       " 16.85960818414368)"
      ]
     },
     "execution_count": 36,
     "metadata": {},
     "output_type": "execute_result"
    }
   ],
   "source": [
    "import cvxpy as cp\n",
    "f = cp.Variable((n,1))\n",
    "\n",
    "obj = cp.Maximize(cp.sum(cp.sqrt(f)))\n",
    "cons = [R@f <= c,A@R@f<=b]\n",
    "problem = cp.Problem(obj,cons)\n",
    "result = problem.solve()\n",
    "f.value,result"
   ]
  },
  {
   "attachments": {},
   "cell_type": "markdown",
   "metadata": {},
   "source": [
    "برای مسئله با اینترفیورنس تعداد لینک های با ماکسیم ظرفیت و لوکیشن انها"
   ]
  },
  {
   "cell_type": "code",
   "execution_count": 47,
   "metadata": {},
   "outputs": [
    {
     "name": "stdout",
     "output_type": "stream",
     "text": [
      "3 \n",
      " [[False]\n",
      " [False]\n",
      " [False]\n",
      " [False]\n",
      " [ True]\n",
      " [False]\n",
      " [False]\n",
      " [False]\n",
      " [False]\n",
      " [False]\n",
      " [False]\n",
      " [False]\n",
      " [False]\n",
      " [False]\n",
      " [False]\n",
      " [False]\n",
      " [False]\n",
      " [ True]\n",
      " [False]\n",
      " [ True]]\n"
     ]
    }
   ],
   "source": [
    "T=np.array(R@f.value >= c-0.001) \n",
    "print(np.count_nonzero(T),'\\n',T)"
   ]
  },
  {
   "cell_type": "code",
   "execution_count": 37,
   "metadata": {},
   "outputs": [
    {
     "data": {
      "text/plain": [
       "(array([[1.84504348],\n",
       "        [3.04649045],\n",
       "        [5.05091473],\n",
       "        [8.68637066],\n",
       "        [4.94266795],\n",
       "        [3.72744392],\n",
       "        [7.45300072],\n",
       "        [2.47187607],\n",
       "        [1.68691267],\n",
       "        [4.8198519 ]]),\n",
       " 20.248769393606057)"
      ]
     },
     "execution_count": 37,
     "metadata": {},
     "output_type": "execute_result"
    }
   ],
   "source": [
    "f1 = cp.Variable((n,1))\n",
    "\n",
    "obj = cp.Maximize(cp.sum(cp.sqrt(f1)))\n",
    "cons = [R@f1 <= c]\n",
    "problem2 = cp.Problem(obj,cons)\n",
    "result2 = problem2.solve()\n",
    "f1.value,result2"
   ]
  },
  {
   "attachments": {},
   "cell_type": "markdown",
   "metadata": {},
   "source": [
    "برای مسئله بدون اینترفیورنس تعداد لینک های با ماکسیم ظرفیت و لوکیشن انها"
   ]
  },
  {
   "cell_type": "code",
   "execution_count": 45,
   "metadata": {},
   "outputs": [
    {
     "name": "stdout",
     "output_type": "stream",
     "text": [
      "7 \n",
      " [[False]\n",
      " [ True]\n",
      " [False]\n",
      " [False]\n",
      " [ True]\n",
      " [False]\n",
      " [False]\n",
      " [False]\n",
      " [False]\n",
      " [ True]\n",
      " [ True]\n",
      " [ True]\n",
      " [False]\n",
      " [False]\n",
      " [False]\n",
      " [False]\n",
      " [False]\n",
      " [ True]\n",
      " [False]\n",
      " [ True]]\n"
     ]
    }
   ],
   "source": [
    "T1=np.array(R@f1.value >= c-0.001) \n",
    "print(np.count_nonzero(T1),'\\n',T1)"
   ]
  }
 ],
 "metadata": {
  "kernelspec": {
   "display_name": "Python 3",
   "language": "python",
   "name": "python3"
  },
  "language_info": {
   "codemirror_mode": {
    "name": "ipython",
    "version": 3
   },
   "file_extension": ".py",
   "mimetype": "text/x-python",
   "name": "python",
   "nbconvert_exporter": "python",
   "pygments_lexer": "ipython3",
   "version": "3.10.5"
  },
  "orig_nbformat": 4
 },
 "nbformat": 4,
 "nbformat_minor": 2
}
