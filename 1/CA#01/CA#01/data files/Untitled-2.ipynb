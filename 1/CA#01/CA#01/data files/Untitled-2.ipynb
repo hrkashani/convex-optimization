{
 "cells": [
  {
   "cell_type": "code",
   "execution_count": null,
   "metadata": {},
   "outputs": [],
   "source": [
    "import numpy as np\n",
    "import matplotlib.pyplot as plt\n",
    "import cvxpy as cp\n",
    "\n",
    "\n",
    "from neural_signal_data import y, s, T, N, M, a_true\n",
    "from neural_signal_data import visualize_data\n",
    "from neural_signal_data import visualize_estimate\n",
    "from neural_signal_data import visualize_polished\n",
    "from neural_signal_data import find_nonzero_entries"
   ]
  }
 ],
 "metadata": {
  "kernelspec": {
   "display_name": "Python 3",
   "language": "python",
   "name": "python3"
  },
  "language_info": {
   "name": "python",
   "version": "3.11.0"
  },
  "orig_nbformat": 4,
  "vscode": {
   "interpreter": {
    "hash": "469f34db35adf4c5127df65b712101ad225de3355214c6476d46d5035e64d4e0"
   }
  }
 },
 "nbformat": 4,
 "nbformat_minor": 2
}
